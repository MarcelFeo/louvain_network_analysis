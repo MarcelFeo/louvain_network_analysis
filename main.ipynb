{
 "cells": [
  {
   "cell_type": "markdown",
   "id": "e2c8a3c5",
   "metadata": {},
   "source": [
    "# Análise Avançada de Redes com NetworkX\n",
    "\n",
    "Este projeto utiliza o NetworkX para realizar uma análise avançada de redes complexas, utilizando como exemplo a rede de personagens do livro Les Misérables. O objetivo é explorar propriedades estruturais da rede, identificar nós influentes, detectar comunidades e criar uma visualização interativa.\n",
    "\n",
    "## Objetivos do Projeto\n",
    "Construir uma rede representando interações (ou colaborações) entre entidades.\n",
    "\n",
    "Realizar análises como:\n",
    "\n",
    "* Centralidade de Grau: Identificar os nós mais conectados.\n",
    "\n",
    "* Centralidade de Intermediação: Descobrir intermediários ou facilitadores.\n",
    "\n",
    "* Comunidades: Detectar clusters ou grupos na rede usando o algoritmo Louvain.\n",
    "\n",
    "* Caminho Médio e Diâmetro: Medir a compactação ou dispersão da rede.\n",
    "\n",
    "* Criar uma visualização interativa usando Plotly.\n",
    "\n",
    "* Gerar relatórios com as principais métricas e insights.\n",
    " "
   ]
  },
  {
   "cell_type": "markdown",
   "id": "3db03eb4",
   "metadata": {},
   "source": [
    "## Instalando as bibliotecas necessárias"
   ]
  },
  {
   "cell_type": "code",
   "execution_count": 8,
   "id": "15b60f1a",
   "metadata": {},
   "outputs": [
    {
     "name": "stdout",
     "output_type": "stream",
     "text": [
      "Requirement already satisfied: networkx in c:\\users\\marce\\appdata\\local\\programs\\python\\python311\\lib\\site-packages (3.4.2)\n",
      "Requirement already satisfied: pandas in c:\\users\\marce\\appdata\\local\\programs\\python\\python311\\lib\\site-packages (2.2.3)\n",
      "Requirement already satisfied: matplotlib in c:\\users\\marce\\appdata\\local\\programs\\python\\python311\\lib\\site-packages (3.9.2)\n",
      "Requirement already satisfied: plotly in c:\\users\\marce\\appdata\\local\\programs\\python\\python311\\lib\\site-packages (5.24.1)\n",
      "Requirement already satisfied: community in c:\\users\\marce\\appdata\\local\\programs\\python\\python311\\lib\\site-packages (1.0.0b1)\n",
      "Collecting python-louvain\n",
      "  Downloading python-louvain-0.16.tar.gz (204 kB)\n",
      "  Installing build dependencies: started\n",
      "  Installing build dependencies: finished with status 'done'\n",
      "  Getting requirements to build wheel: started\n",
      "  Getting requirements to build wheel: finished with status 'done'\n",
      "  Preparing metadata (pyproject.toml): started\n",
      "  Preparing metadata (pyproject.toml): finished with status 'done'\n",
      "Requirement already satisfied: numpy>=1.23.2 in c:\\users\\marce\\appdata\\local\\programs\\python\\python311\\lib\\site-packages (from pandas) (2.1.2)\n",
      "Requirement already satisfied: python-dateutil>=2.8.2 in c:\\users\\marce\\appdata\\local\\programs\\python\\python311\\lib\\site-packages (from pandas) (2.8.2)\n",
      "Requirement already satisfied: pytz>=2020.1 in c:\\users\\marce\\appdata\\local\\programs\\python\\python311\\lib\\site-packages (from pandas) (2024.2)\n",
      "Requirement already satisfied: tzdata>=2022.7 in c:\\users\\marce\\appdata\\local\\programs\\python\\python311\\lib\\site-packages (from pandas) (2024.2)\n",
      "Requirement already satisfied: contourpy>=1.0.1 in c:\\users\\marce\\appdata\\local\\programs\\python\\python311\\lib\\site-packages (from matplotlib) (1.3.0)\n",
      "Requirement already satisfied: cycler>=0.10 in c:\\users\\marce\\appdata\\local\\programs\\python\\python311\\lib\\site-packages (from matplotlib) (0.12.1)\n",
      "Requirement already satisfied: fonttools>=4.22.0 in c:\\users\\marce\\appdata\\local\\programs\\python\\python311\\lib\\site-packages (from matplotlib) (4.54.1)\n",
      "Requirement already satisfied: kiwisolver>=1.3.1 in c:\\users\\marce\\appdata\\local\\programs\\python\\python311\\lib\\site-packages (from matplotlib) (1.4.7)\n",
      "Requirement already satisfied: packaging>=20.0 in c:\\users\\marce\\appdata\\local\\programs\\python\\python311\\lib\\site-packages (from matplotlib) (23.1)\n",
      "Requirement already satisfied: pillow>=8 in c:\\users\\marce\\appdata\\local\\programs\\python\\python311\\lib\\site-packages (from matplotlib) (10.4.0)\n",
      "Requirement already satisfied: pyparsing>=2.3.1 in c:\\users\\marce\\appdata\\local\\programs\\python\\python311\\lib\\site-packages (from matplotlib) (3.1.4)\n",
      "Requirement already satisfied: tenacity>=6.2.0 in c:\\users\\marce\\appdata\\local\\programs\\python\\python311\\lib\\site-packages (from plotly) (9.0.0)\n",
      "Requirement already satisfied: Flask in c:\\users\\marce\\appdata\\local\\programs\\python\\python311\\lib\\site-packages (from community) (3.1.0)\n",
      "Requirement already satisfied: requests in c:\\users\\marce\\appdata\\local\\programs\\python\\python311\\lib\\site-packages (from community) (2.31.0)\n",
      "Requirement already satisfied: six>=1.5 in c:\\users\\marce\\appdata\\local\\programs\\python\\python311\\lib\\site-packages (from python-dateutil>=2.8.2->pandas) (1.16.0)\n",
      "Requirement already satisfied: Werkzeug>=3.1 in c:\\users\\marce\\appdata\\local\\programs\\python\\python311\\lib\\site-packages (from Flask->community) (3.1.3)\n",
      "Requirement already satisfied: Jinja2>=3.1.2 in c:\\users\\marce\\appdata\\local\\programs\\python\\python311\\lib\\site-packages (from Flask->community) (3.1.2)\n",
      "Requirement already satisfied: itsdangerous>=2.2 in c:\\users\\marce\\appdata\\local\\programs\\python\\python311\\lib\\site-packages (from Flask->community) (2.2.0)\n",
      "Requirement already satisfied: click>=8.1.3 in c:\\users\\marce\\appdata\\local\\programs\\python\\python311\\lib\\site-packages (from Flask->community) (8.1.6)\n",
      "Requirement already satisfied: blinker>=1.9 in c:\\users\\marce\\appdata\\local\\programs\\python\\python311\\lib\\site-packages (from Flask->community) (1.9.0)\n",
      "Requirement already satisfied: charset-normalizer<4,>=2 in c:\\users\\marce\\appdata\\local\\programs\\python\\python311\\lib\\site-packages (from requests->community) (3.2.0)\n",
      "Requirement already satisfied: idna<4,>=2.5 in c:\\users\\marce\\appdata\\local\\programs\\python\\python311\\lib\\site-packages (from requests->community) (3.4)\n",
      "Requirement already satisfied: urllib3<3,>=1.21.1 in c:\\users\\marce\\appdata\\local\\programs\\python\\python311\\lib\\site-packages (from requests->community) (2.0.4)\n",
      "Requirement already satisfied: certifi>=2017.4.17 in c:\\users\\marce\\appdata\\local\\programs\\python\\python311\\lib\\site-packages (from requests->community) (2023.7.22)\n",
      "Requirement already satisfied: colorama in c:\\users\\marce\\appdata\\local\\programs\\python\\python311\\lib\\site-packages (from click>=8.1.3->Flask->community) (0.4.6)\n",
      "Requirement already satisfied: MarkupSafe>=2.0 in c:\\users\\marce\\appdata\\local\\programs\\python\\python311\\lib\\site-packages (from Jinja2>=3.1.2->Flask->community) (2.1.2)\n",
      "Building wheels for collected packages: python-louvain\n",
      "  Building wheel for python-louvain (pyproject.toml): started\n",
      "  Building wheel for python-louvain (pyproject.toml): finished with status 'done'\n",
      "  Created wheel for python-louvain: filename=python_louvain-0.16-py3-none-any.whl size=9401 sha256=ed4a79302a8e0ccf1cd0a8ad940afac21f9f03a113c54bab5e34872d01134601\n",
      "  Stored in directory: c:\\users\\marce\\appdata\\local\\pip\\cache\\wheels\\11\\c1\\e7\\f62a211c636275e2da798bf0c307a3ae79aeddaf2524a03ce4\n",
      "Successfully built python-louvain\n",
      "Installing collected packages: python-louvain\n",
      "Successfully installed python-louvain-0.16\n",
      "Note: you may need to restart the kernel to use updated packages.\n"
     ]
    }
   ],
   "source": [
    "pip install networkx pandas matplotlib plotly community"
   ]
  },
  {
   "cell_type": "markdown",
   "id": "3f1fc856",
   "metadata": {},
   "source": [
    "## Carregar Dataset\n",
    "Usaremos o dataset \"Les Misérables\" embutido no NetworkX."
   ]
  },
  {
   "cell_type": "code",
   "execution_count": 3,
   "id": "876c05f7",
   "metadata": {},
   "outputs": [
    {
     "name": "stdout",
     "output_type": "stream",
     "text": [
      "Número de nós (personagens): 77\n",
      "Número de arestas (colaborações): 254\n"
     ]
    }
   ],
   "source": [
    "import networkx as nx\n",
    "\n",
    "# Carregar o dataset Les Misérables\n",
    "G = nx.les_miserables_graph()\n",
    "\n",
    "# Exibir informações da rede\n",
    "print(\"Número de nós (personagens):\", G.number_of_nodes())\n",
    "print(\"Número de arestas (colaborações):\", G.number_of_edges())"
   ]
  },
  {
   "cell_type": "code",
   "execution_count": 4,
   "id": "7d1ad726",
   "metadata": {
    "scrolled": true
   },
   "outputs": [
    {
     "name": "stdout",
     "output_type": "stream",
     "text": [
      "Graph with 77 nodes and 254 edges\n"
     ]
    }
   ],
   "source": [
    "print(G)"
   ]
  },
  {
   "cell_type": "markdown",
   "id": "3c9807c0",
   "metadata": {},
   "source": [
    "## Analisar Propriedades da Rede"
   ]
  },
  {
   "cell_type": "markdown",
   "id": "01bb6867",
   "metadata": {},
   "source": [
    "### Centralidade de Grau"
   ]
  },
  {
   "cell_type": "code",
   "execution_count": 5,
   "id": "5eb93597",
   "metadata": {},
   "outputs": [
    {
     "name": "stdout",
     "output_type": "stream",
     "text": [
      "Top 5 nós mais influentes (centralidade de grau): [('Valjean', 0.47368421052631576), ('Gavroche', 0.2894736842105263), ('Marius', 0.25), ('Javert', 0.22368421052631576), ('Thenardier', 0.21052631578947367)]\n"
     ]
    }
   ],
   "source": [
    "centralidade_grau = nx.degree_centrality(G)\n",
    "top_influentes = sorted(centralidade_grau.items(), key=lambda x: x[1], reverse=True)[:5]\n",
    "print(\"Top 5 nós mais influentes (centralidade de grau):\", top_influentes)"
   ]
  },
  {
   "cell_type": "markdown",
   "id": "3b4765bb",
   "metadata": {},
   "source": [
    "### Centralidade de Intermediação"
   ]
  },
  {
   "cell_type": "code",
   "execution_count": 6,
   "id": "6dad9ba3",
   "metadata": {},
   "outputs": [
    {
     "name": "stdout",
     "output_type": "stream",
     "text": [
      "Top 5 nós mais influentes (intermediação): [('Valjean', 0.5699890527836184), ('Myriel', 0.17684210526315788), ('Gavroche', 0.16511250242584766), ('Marius', 0.132032488621946), ('Fantine', 0.12964454098819422)]\n"
     ]
    }
   ],
   "source": [
    "centralidade_intermediacao = nx.betweenness_centrality(G)\n",
    "top_intermediarios = sorted(centralidade_intermediacao.items(), key=lambda x: x[1], reverse=True)[:5]\n",
    "print(\"Top 5 nós mais influentes (intermediação):\", top_intermediarios)\n"
   ]
  },
  {
   "cell_type": "markdown",
   "id": "01d0a025",
   "metadata": {},
   "source": [
    "### Comunidades (Clusters)"
   ]
  },
  {
   "cell_type": "code",
   "execution_count": 10,
   "id": "6780daf8",
   "metadata": {},
   "outputs": [
    {
     "name": "stdout",
     "output_type": "stream",
     "text": [
      "Requirement already satisfied: python-louvain in c:\\users\\marce\\appdata\\local\\programs\\python\\python311\\lib\\site-packages (0.16)\n",
      "Requirement already satisfied: networkx in c:\\users\\marce\\appdata\\local\\programs\\python\\python311\\lib\\site-packages (from python-louvain) (3.4.2)\n",
      "Requirement already satisfied: numpy in c:\\users\\marce\\appdata\\local\\programs\\python\\python311\\lib\\site-packages (from python-louvain) (2.1.2)\n"
     ]
    }
   ],
   "source": [
    "!pip install python-louvain"
   ]
  },
  {
   "cell_type": "code",
   "execution_count": 16,
   "id": "9680c280",
   "metadata": {},
   "outputs": [
    {
     "ename": "AttributeError",
     "evalue": "module 'community' has no attribute 'best_partition'",
     "output_type": "error",
     "traceback": [
      "\u001b[1;31m---------------------------------------------------------------------------\u001b[0m",
      "\u001b[1;31mAttributeError\u001b[0m                            Traceback (most recent call last)",
      "Cell \u001b[1;32mIn[16], line 4\u001b[0m\n\u001b[0;32m      1\u001b[0m \u001b[38;5;28;01mimport\u001b[39;00m \u001b[38;5;21;01mcommunity\u001b[39;00m \u001b[38;5;28;01mas\u001b[39;00m \u001b[38;5;21;01mcommunity_louvain\u001b[39;00m\n\u001b[0;32m      3\u001b[0m \u001b[38;5;66;03m# Particionamento em comunidades\u001b[39;00m\n\u001b[1;32m----> 4\u001b[0m particoes \u001b[38;5;241m=\u001b[39m \u001b[43mcommunity_louvain\u001b[49m\u001b[38;5;241;43m.\u001b[39;49m\u001b[43mbest_partition\u001b[49m(G)\n\u001b[0;32m      5\u001b[0m \u001b[38;5;28mprint\u001b[39m(\u001b[38;5;124m\"\u001b[39m\u001b[38;5;124mNúmero de comunidades detectadas:\u001b[39m\u001b[38;5;124m\"\u001b[39m, \u001b[38;5;28mlen\u001b[39m(\u001b[38;5;28mset\u001b[39m(particao\u001b[38;5;241m.\u001b[39mvalues())))\n",
      "\u001b[1;31mAttributeError\u001b[0m: module 'community' has no attribute 'best_partition'"
     ]
    }
   ],
   "source": [
    "import community as community_louvain\n",
    "\n",
    "# Particionamento em comunidades\n",
    "particoes = community_louvain.best_partition(G)\n",
    "print(\"Número de comunidades detectadas:\", len(set(particao.values())))\n"
   ]
  },
  {
   "cell_type": "markdown",
   "id": "51b1b3df",
   "metadata": {},
   "source": [
    "### Caminho Médio e Diâmetro"
   ]
  },
  {
   "cell_type": "code",
   "execution_count": 12,
   "id": "ca10a6ad",
   "metadata": {},
   "outputs": [
    {
     "name": "stdout",
     "output_type": "stream",
     "text": [
      "Caminho Médio: 2.6411483253588517\n",
      "Diâmetro da Rede: 5\n"
     ]
    }
   ],
   "source": [
    "caminho_medio = nx.average_shortest_path_length(G)\n",
    "diametro = nx.diameter(G)\n",
    "print(\"Caminho Médio:\", caminho_medio)\n",
    "print(\"Diâmetro da Rede:\", diametro)\n"
   ]
  },
  {
   "cell_type": "code",
   "execution_count": null,
   "id": "fce0b89b",
   "metadata": {},
   "outputs": [],
   "source": []
  }
 ],
 "metadata": {
  "kernelspec": {
   "display_name": "Python 3 (ipykernel)",
   "language": "python",
   "name": "python3"
  },
  "language_info": {
   "codemirror_mode": {
    "name": "ipython",
    "version": 3
   },
   "file_extension": ".py",
   "mimetype": "text/x-python",
   "name": "python",
   "nbconvert_exporter": "python",
   "pygments_lexer": "ipython3",
   "version": "3.11.3"
  }
 },
 "nbformat": 4,
 "nbformat_minor": 5
}
