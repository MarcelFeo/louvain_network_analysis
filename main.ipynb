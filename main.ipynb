{
 "cells": [
  {
   "cell_type": "markdown",
   "id": "c4f2da7a",
   "metadata": {},
   "source": [
    "# Análise Avançada de Redes com NetworkX\n",
    "\n",
    "Este projeto utiliza o NetworkX para realizar uma análise avançada de redes complexas, utilizando como exemplo a rede de personagens do livro Les Misérables. O objetivo é explorar propriedades estruturais da rede, identificar nós influentes, detectar comunidades e criar uma visualização interativa.\n",
    "\n",
    "## Objetivos do Projeto\n",
    "Construir uma rede representando interações (ou colaborações) entre entidades.\n",
    "\n",
    "Realizar análises como:\n",
    "\n",
    "* Centralidade de Grau: Identificar os nós mais conectados.\n",
    "\n",
    "* Centralidade de Intermediação: Descobrir intermediários ou facilitadores.\n",
    "\n",
    "* Comunidades: Detectar clusters ou grupos na rede usando o algoritmo Louvain.\n",
    "\n",
    "* Caminho Médio e Diâmetro: Medir a compactação ou dispersão da rede.\n",
    "\n",
    "* Criar uma visualização interativa usando Plotly.\n",
    "\n",
    "* Gerar relatórios com as principais métricas e insights.\n",
    " "
   ]
  },
  {
   "cell_type": "markdown",
   "id": "29c42575",
   "metadata": {},
   "source": [
    "## Instalando as bibliotecas necessárias"
   ]
  },
  {
   "cell_type": "code",
   "execution_count": 1,
   "id": "8008d594",
   "metadata": {},
   "outputs": [
    {
     "name": "stdout",
     "output_type": "stream",
     "text": [
      "Requirement already satisfied: networkx in c:\\users\\marce\\appdata\\local\\programs\\python\\python311\\lib\\site-packages (3.4.2)\n",
      "Requirement already satisfied: pandas in c:\\users\\marce\\appdata\\local\\programs\\python\\python311\\lib\\site-packages (2.2.3)\n",
      "Requirement already satisfied: matplotlib in c:\\users\\marce\\appdata\\local\\programs\\python\\python311\\lib\\site-packages (3.9.2)\n",
      "Requirement already satisfied: plotly in c:\\users\\marce\\appdata\\local\\programs\\python\\python311\\lib\\site-packages (5.24.1)\n",
      "Requirement already satisfied: community in c:\\users\\marce\\appdata\\local\\programs\\python\\python311\\lib\\site-packages (1.0.0b1)\n",
      "Requirement already satisfied: numpy>=1.23.2 in c:\\users\\marce\\appdata\\local\\programs\\python\\python311\\lib\\site-packages (from pandas) (2.1.2)\n",
      "Requirement already satisfied: python-dateutil>=2.8.2 in c:\\users\\marce\\appdata\\local\\programs\\python\\python311\\lib\\site-packages (from pandas) (2.8.2)\n",
      "Requirement already satisfied: pytz>=2020.1 in c:\\users\\marce\\appdata\\local\\programs\\python\\python311\\lib\\site-packages (from pandas) (2024.2)\n",
      "Requirement already satisfied: tzdata>=2022.7 in c:\\users\\marce\\appdata\\local\\programs\\python\\python311\\lib\\site-packages (from pandas) (2024.2)\n",
      "Requirement already satisfied: contourpy>=1.0.1 in c:\\users\\marce\\appdata\\local\\programs\\python\\python311\\lib\\site-packages (from matplotlib) (1.3.0)\n",
      "Requirement already satisfied: cycler>=0.10 in c:\\users\\marce\\appdata\\local\\programs\\python\\python311\\lib\\site-packages (from matplotlib) (0.12.1)\n",
      "Requirement already satisfied: fonttools>=4.22.0 in c:\\users\\marce\\appdata\\local\\programs\\python\\python311\\lib\\site-packages (from matplotlib) (4.54.1)\n",
      "Requirement already satisfied: kiwisolver>=1.3.1 in c:\\users\\marce\\appdata\\local\\programs\\python\\python311\\lib\\site-packages (from matplotlib) (1.4.7)\n",
      "Requirement already satisfied: packaging>=20.0 in c:\\users\\marce\\appdata\\local\\programs\\python\\python311\\lib\\site-packages (from matplotlib) (23.1)\n",
      "Requirement already satisfied: pillow>=8 in c:\\users\\marce\\appdata\\local\\programs\\python\\python311\\lib\\site-packages (from matplotlib) (10.4.0)\n",
      "Requirement already satisfied: pyparsing>=2.3.1 in c:\\users\\marce\\appdata\\local\\programs\\python\\python311\\lib\\site-packages (from matplotlib) (3.1.4)\n",
      "Requirement already satisfied: tenacity>=6.2.0 in c:\\users\\marce\\appdata\\local\\programs\\python\\python311\\lib\\site-packages (from plotly) (9.0.0)\n",
      "Requirement already satisfied: Flask in c:\\users\\marce\\appdata\\local\\programs\\python\\python311\\lib\\site-packages (from community) (3.1.0)\n",
      "Requirement already satisfied: requests in c:\\users\\marce\\appdata\\local\\programs\\python\\python311\\lib\\site-packages (from community) (2.31.0)\n",
      "Requirement already satisfied: six>=1.5 in c:\\users\\marce\\appdata\\local\\programs\\python\\python311\\lib\\site-packages (from python-dateutil>=2.8.2->pandas) (1.16.0)\n",
      "Requirement already satisfied: Werkzeug>=3.1 in c:\\users\\marce\\appdata\\local\\programs\\python\\python311\\lib\\site-packages (from Flask->community) (3.1.3)\n",
      "Requirement already satisfied: Jinja2>=3.1.2 in c:\\users\\marce\\appdata\\local\\programs\\python\\python311\\lib\\site-packages (from Flask->community) (3.1.2)\n",
      "Requirement already satisfied: itsdangerous>=2.2 in c:\\users\\marce\\appdata\\local\\programs\\python\\python311\\lib\\site-packages (from Flask->community) (2.2.0)\n",
      "Requirement already satisfied: click>=8.1.3 in c:\\users\\marce\\appdata\\local\\programs\\python\\python311\\lib\\site-packages (from Flask->community) (8.1.6)\n",
      "Requirement already satisfied: blinker>=1.9 in c:\\users\\marce\\appdata\\local\\programs\\python\\python311\\lib\\site-packages (from Flask->community) (1.9.0)\n",
      "Requirement already satisfied: charset-normalizer<4,>=2 in c:\\users\\marce\\appdata\\local\\programs\\python\\python311\\lib\\site-packages (from requests->community) (3.2.0)\n",
      "Requirement already satisfied: idna<4,>=2.5 in c:\\users\\marce\\appdata\\local\\programs\\python\\python311\\lib\\site-packages (from requests->community) (3.4)\n",
      "Requirement already satisfied: urllib3<3,>=1.21.1 in c:\\users\\marce\\appdata\\local\\programs\\python\\python311\\lib\\site-packages (from requests->community) (2.0.4)\n",
      "Requirement already satisfied: certifi>=2017.4.17 in c:\\users\\marce\\appdata\\local\\programs\\python\\python311\\lib\\site-packages (from requests->community) (2023.7.22)\n",
      "Requirement already satisfied: colorama in c:\\users\\marce\\appdata\\local\\programs\\python\\python311\\lib\\site-packages (from click>=8.1.3->Flask->community) (0.4.6)\n",
      "Requirement already satisfied: MarkupSafe>=2.0 in c:\\users\\marce\\appdata\\local\\programs\\python\\python311\\lib\\site-packages (from Jinja2>=3.1.2->Flask->community) (2.1.2)\n",
      "Note: you may need to restart the kernel to use updated packages.\n"
     ]
    }
   ],
   "source": [
    "pip install networkx pandas matplotlib plotly community"
   ]
  },
  {
   "cell_type": "code",
   "execution_count": null,
   "id": "608a1e06",
   "metadata": {},
   "outputs": [],
   "source": []
  },
  {
   "cell_type": "code",
   "execution_count": null,
   "id": "85b548f9",
   "metadata": {},
   "outputs": [],
   "source": []
  },
  {
   "cell_type": "code",
   "execution_count": null,
   "id": "689df006",
   "metadata": {},
   "outputs": [],
   "source": []
  },
  {
   "cell_type": "code",
   "execution_count": null,
   "id": "1d20868b",
   "metadata": {},
   "outputs": [],
   "source": []
  },
  {
   "cell_type": "code",
   "execution_count": null,
   "id": "c3e9b579",
   "metadata": {},
   "outputs": [],
   "source": []
  }
 ],
 "metadata": {
  "kernelspec": {
   "display_name": "Python 3 (ipykernel)",
   "language": "python",
   "name": "python3"
  },
  "language_info": {
   "codemirror_mode": {
    "name": "ipython",
    "version": 3
   },
   "file_extension": ".py",
   "mimetype": "text/x-python",
   "name": "python",
   "nbconvert_exporter": "python",
   "pygments_lexer": "ipython3",
   "version": "3.11.3"
  }
 },
 "nbformat": 4,
 "nbformat_minor": 5
}
